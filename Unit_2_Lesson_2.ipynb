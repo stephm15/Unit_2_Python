{
  "nbformat": 4,
  "nbformat_minor": 0,
  "metadata": {
    "colab": {
      "name": "Unit 2 Lesson 2",
      "provenance": [],
      "authorship_tag": "ABX9TyOEFDfS1F/tNd+FrLQNjrV/",
      "include_colab_link": true
    },
    "kernelspec": {
      "name": "python3",
      "display_name": "Python 3"
    }
  },
  "cells": [
    {
      "cell_type": "markdown",
      "metadata": {
        "id": "view-in-github",
        "colab_type": "text"
      },
      "source": [
        "<a href=\"https://colab.research.google.com/github/stephm15/Unit_2_Python/blob/main/Unit_2_Lesson_2.ipynb\" target=\"_parent\"><img src=\"https://colab.research.google.com/assets/colab-badge.svg\" alt=\"Open In Colab\"/></a>"
      ]
    },
    {
      "cell_type": "code",
      "metadata": {
        "colab": {
          "base_uri": "https://localhost:8080/"
        },
        "id": "Xzb8vZNsaBnn",
        "outputId": "19421645-92a6-45e0-bf2b-f893e3084c3f"
      },
      "source": [
        "Name = \"Stephanie Salarbux\"\r\n",
        "print(Name)\r\n",
        "print(\"Python for Data Analytics\")\r\n",
        "print(\"1.\tWhat is Python and why is it useful?\")\r\n",
        "print(\"2.\tAre the following variable names allowed in python?\")\r\n",
        "print(\"a.1_message NO\\nb.Greeting_message YES\\nc.Message_1 YES\\nd.First name NO\\ne.Full_name YES\")\r\n",
        "print(\"3.\tCreate a variable that holds the string “hello there!”\")\r\n",
        "Greeting = \"'hello there!'\"\r\n",
        "print(Greeting)\r\n",
        "print(\"4.\tCreate a variable for first name, last name and an email extension.  Concatenating all three together to form an email address.  For example: firstnamelastname@gmail.com\")\r\n",
        "First_Name = \"Stephanie\"\r\n",
        "Last_Name = \"Salarbux\"\r\n",
        "Extension = \"@gmail.com\"\r\n",
        "Email = First_Name + Last_Name + Extension\r\n",
        "print(Email)\r\n",
        "print(\"5.\tStore someone you know name in a variable called name.  Print their name in lower and uppercase using a method.\")\r\n",
        "name = \"Melanie Salarbux\"\r\n",
        "print(name)\r\n",
        "print(name.upper())\r\n",
        "print(name.lower())\r\n",
        "#6.\tUsing a variable, ask your friend if they want to hang out on the 15th of the month.  For example, “Do you want to hang out on the 15th of this month?”  You should have to convert the number to a string.\")\r\n",
        "date = 15\r\n",
        "print(name + \",do you want to hang out on the \" + str(date) + \"th of the month?\")"
      ],
      "execution_count": 7,
      "outputs": [
        {
          "output_type": "stream",
          "text": [
            "Stephanie Salarbux\n",
            "Python for Data Analytics\n",
            "1.\tWhat is Python and why is it useful?\n",
            "2.\tAre the following variable names allowed in python?\n",
            "a.1_message NO\n",
            "b.Greeting_message YES\n",
            "c.Message_1 YES\n",
            "d.First name NO\n",
            "e.Full_name YES\n",
            "3.\tCreate a variable that holds the string “hello there!”\n",
            "'hello there!'\n",
            "4.\tCreate a variable for first name, last name and an email extension.  Concatenating all three together to form an email address.  For example: firstnamelastname@gmail.com\n",
            "StephanieSalarbux@gmail.com\n",
            "5.\tStore someone you know name in a variable called name.  Print their name in lower and uppercase using a method.\n",
            "Melanie Salarbux\n",
            "MELANIE SALARBUX\n",
            "melanie salarbux\n",
            "Melanie Salarbux,do you want to hang out on the 15th of the month?\n"
          ],
          "name": "stdout"
        }
      ]
    }
  ]
}